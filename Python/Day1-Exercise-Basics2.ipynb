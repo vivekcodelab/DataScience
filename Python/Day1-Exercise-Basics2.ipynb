{
 "cells": [
  {
   "cell_type": "markdown",
   "id": "22182df7-7a93-4fb9-b0c2-394134fca7e3",
   "metadata": {},
   "source": [
    "### Exercise Question 1: Given an input list removes the element at index 4 and add it to the 2nd position and also, at the end of the list"
   ]
  },
  {
   "cell_type": "code",
   "execution_count": 43,
   "id": "2e80a4ca-a122-4390-98cc-ef4ff8a11223",
   "metadata": {},
   "outputs": [
    {
     "name": "stdout",
     "output_type": "stream",
     "text": [
      "List After removing element at index 4 : [34, 54, 67, 89, 43, 94]\n"
     ]
    }
   ],
   "source": [
    "List = [34, 54, 67, 89, 11, 43, 94]\n",
    "del List[4]\n",
    "print('List After removing element at index 4 :', List)"
   ]
  },
  {
   "cell_type": "code",
   "execution_count": 44,
   "id": "88dd9d03-350d-44a6-a14e-e9362a38c7ff",
   "metadata": {},
   "outputs": [
    {
     "name": "stdout",
     "output_type": "stream",
     "text": [
      "List after Adding element at index 2 : [34, 54, 11, 67, 89, 43, 94]\n"
     ]
    }
   ],
   "source": [
    "List.insert(2, 11)\n",
    "print('List after Adding element at index 2 :',List)"
   ]
  },
  {
   "cell_type": "code",
   "execution_count": 45,
   "id": "0a742a91-8779-4b82-b8e9-a7f9e874d6e7",
   "metadata": {},
   "outputs": [
    {
     "name": "stdout",
     "output_type": "stream",
     "text": [
      "List after Adding element at last : [34, 54, 11, 67, 89, 43, 94, 11]\n"
     ]
    }
   ],
   "source": [
    "List.insert(len(List), 11)\n",
    "print('List after Adding element at last :' ,List)"
   ]
  },
  {
   "cell_type": "markdown",
   "id": "bde7baa8-5331-4043-997f-50faf2b448f0",
   "metadata": {},
   "source": [
    "### Exercise Question 2: Given a two list of equal size create a list of unique elements from both the lists into a seperate list"
   ]
  },
  {
   "cell_type": "code",
   "execution_count": 5,
   "id": "2a2619bc-4c9f-4fa3-afa3-634346202e53",
   "metadata": {},
   "outputs": [
    {
     "name": "stdout",
     "output_type": "stream",
     "text": [
      "First List : [2, 3, 4, 5, 6, 7, 8]\n",
      "Second List : [4, 9, 16, 25, 36, 49, 64]\n",
      "List of distinct value from both the List : [64, 2, 3, 4, 5, 6, 7, 8, 9, 36, 16, 49, 25]\n"
     ]
    }
   ],
   "source": [
    "lst1 = [2, 3, 4, 5, 6, 7, 8]\n",
    "print('First List :',lst1)\n",
    "lst2 = [4, 9, 16, 25, 36, 49, 64]\n",
    "print('Second List :',lst2)\n",
    "lst_comb_uniq= list(set(lst1+lst2))\n",
    "Print('List of distinct value from both the List :',lst_comb_uniq)\n"
   ]
  },
  {
   "cell_type": "markdown",
   "id": "ebe8af3a-234b-426a-9c96-8af5c65d215a",
   "metadata": {},
   "source": [
    "### Exercise Question 3: Remove duplicate from a list and create a tuple and find the minimum and maximum number (Hint: Try Functions Min() and Max() )"
   ]
  },
  {
   "cell_type": "code",
   "execution_count": 12,
   "id": "d6ab181e-dba4-4a7d-bc68-e085baa930cb",
   "metadata": {},
   "outputs": [
    {
     "name": "stdout",
     "output_type": "stream",
     "text": [
      "Original list:  [87, 52, 44, 53, 54, 87, 52, 53]\n",
      "List Distinct : [44, 52, 53, 54, 87]\n",
      "Tuple Distinct : (44, 52, 53, 54, 87)\n",
      "Minimum number is: 44\n",
      "Maximum number is: 87\n"
     ]
    }
   ],
   "source": [
    "org_lst = [87, 52, 44, 53, 54, 87, 52, 53]\n",
    "print('Original list: ' ,org_lst)\n",
    "List_dis = list(set(org_lst))\n",
    "print('List Distinct :',List_dis)\n",
    "tuple_dis = tuple(set(org_lst))\n",
    "print('Tuple Distinct :',tuple_dis)\n",
    "print('Minimum number is:', min(tuple_dis))\n",
    "print('Maximum number is:', max(tuple_dis))"
   ]
  },
  {
   "cell_type": "code",
   "execution_count": null,
   "id": "96695d73-f989-425a-9598-fd037bec4b12",
   "metadata": {},
   "outputs": [],
   "source": [
    "### Exercise Question 4: Display the each word in the string Count the number of words in a string and display it (Including the white spaces)"
   ]
  },
  {
   "cell_type": "code",
   "execution_count": 16,
   "id": "72d6672a-4ca9-4078-8759-a584517ef574",
   "metadata": {},
   "outputs": [
    {
     "name": "stdout",
     "output_type": "stream",
     "text": [
      "The sample string: Welcome to Python\n",
      "W e l c o m e   t o   P y t h o n\n",
      "The Length of the string: 17\n"
     ]
    }
   ],
   "source": [
    "a = \"Welcome to Python\"\n",
    "print('The sample string:', a)\n",
    "print(*a)\n",
    "print('The Length of the string:', len(a))"
   ]
  },
  {
   "cell_type": "code",
   "execution_count": null,
   "id": "6e5fece7-8756-46db-aca9-976084d85794",
   "metadata": {},
   "outputs": [],
   "source": [
    "### Exercise Question 5: Write a Python program to access dictionary keys element by index. i.e. Use indexing methods to print the first key"
   ]
  },
  {
   "cell_type": "code",
   "execution_count": 30,
   "id": "0478cfbe-3546-4833-9cf6-bfc06731fc46",
   "metadata": {},
   "outputs": [
    {
     "name": "stdout",
     "output_type": "stream",
     "text": [
      "The dictionary is: {'physics': 80, 'math': 90, 'chemistry': 86}\n",
      "The key element accesed by index: physics\n"
     ]
    }
   ],
   "source": [
    "Dict_val = {'physics': 80, 'math': 90, 'chemistry': 86}\n",
    "print('The dictionary is:' , Dict_val)  \n",
    "lst_keys = list(Dict_val)\n",
    "print('The key element accesed by index:', lst_keys[0])"
   ]
  },
  {
   "cell_type": "code",
   "execution_count": null,
   "id": "6028ea80-35f9-4400-bd0c-61c9841b662f",
   "metadata": {},
   "outputs": [],
   "source": [
    "### Python Datatype with defaule size"
   ]
  },
  {
   "cell_type": "code",
   "execution_count": 50,
   "id": "4e62a6d1-df8c-4f8d-96d3-8e87a4c603ae",
   "metadata": {},
   "outputs": [
    {
     "name": "stdout",
     "output_type": "stream",
     "text": [
      "Default Size of an empty integer object: 28 bytes\n",
      "Default Size of an empty float object: 24 bytes\n",
      "Default Size of an empty string object: 49 bytes\n",
      "Default Size of an empty list object:56 bytes\n",
      "Default Size of an empty tuple object:40 bytes\n",
      "Default Size of an empty dict object:64 bytes\n",
      "Default Size of an empty set object:216 bytes\n"
     ]
    }
   ],
   "source": [
    "import sys\n",
    "print(f\"Default Size of an empty integer object: {sys.getsizeof(0)} bytes\")\n",
    "print(f\"Default Size of an empty float object: {sys.getsizeof(0.0)} bytes\")\n",
    "print(f\"Default Size of an empty string object: {sys.getsizeof('')} bytes\")\n",
    "print(f\"Default Size of an empty list object:{sys.getsizeof([])} bytes\" )\n",
    "print(f\"Default Size of an empty tuple object:{sys.getsizeof(())} bytes\" )\n",
    "print(f\"Default Size of an empty dict object:{sys.getsizeof({})} bytes\" )\n",
    "print(f\"Default Size of an empty set object:{sys.getsizeof(set())} bytes\" )"
   ]
  }
 ],
 "metadata": {
  "kernelspec": {
   "display_name": "Python 3 (ipykernel)",
   "language": "python",
   "name": "python3"
  },
  "language_info": {
   "codemirror_mode": {
    "name": "ipython",
    "version": 3
   },
   "file_extension": ".py",
   "mimetype": "text/x-python",
   "name": "python",
   "nbconvert_exporter": "python",
   "pygments_lexer": "ipython3",
   "version": "3.11.7"
  }
 },
 "nbformat": 4,
 "nbformat_minor": 5
}
